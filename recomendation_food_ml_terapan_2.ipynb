{
 "cells": [
  {
   "cell_type": "markdown",
   "metadata": {
    "_cell_guid": "edf30ae0-8052-4960-afd8-cc00907e87a9",
    "_uuid": "f5b5f7c2-cc5a-4428-95c7-c37021f262e7",
    "collapsed": false,
    "jupyter": {
     "outputs_hidden": false
    },
    "trusted": true
   },
   "source": [
    "# Rekomendasi Makanan Berbasis Content-Based dan Collaborative Filtering\n",
    "\n",
    "# Dataset dan Referensi\n",
    "\n",
    "**Dataset:** [Food.com Recipes and Interactions Dataset](https://www.kaggle.com/datasets/shuyangli94/food-com-recipes-and-user-interactions)\n",
    "\n",
    "* Berisi lebih dari 700.000 interaksi pengguna dan 180.000+ resep\n",
    "* Dua file utama digunakan:\n",
    "\n",
    "  * `RAW_recipes.csv` — metadata resep\n",
    "  * `RAW_interactions.csv` — review, rating, dan user ID\n",
    "\n",
    "**Referensi Akademik:**\n",
    "\n",
    "* Yi-Ying Chow et al., *Food Recommender System: A Review*, Journal of System and Management Sciences, 2023\n",
    "* Jon Bondevik et al., *A Systematic Review on Food Recommender Systems*, Elsevier, 2023\n",
    "* Muhamad Naufal Syaiful Bahri et al., *Implementasi Sistem Rekomendasi Makanan EatAja*, Multinetics, 2021"
   ]
  },
  {
   "cell_type": "markdown",
   "metadata": {
    "_cell_guid": "8806e1ec-0378-44d2-b93a-fa39cdcedd65",
    "_uuid": "9676219f-a0b0-4f02-a8b1-b5086ae8f0db",
    "collapsed": false,
    "jupyter": {
     "outputs_hidden": false
    },
    "trusted": true
   },
   "source": [
    "# Import Library"
   ]
  },
  {
   "cell_type": "code",
   "execution_count": 71,
   "metadata": {
    "_cell_guid": "0ced8e03-1339-4ece-9b51-ce71a550bc62",
    "_uuid": "25211ebb-086f-4a5d-8f05-3185648a5ac6",
    "collapsed": false,
    "execution": {
     "iopub.execute_input": "2025-05-23T05:56:09.060522Z",
     "iopub.status.busy": "2025-05-23T05:56:09.060199Z",
     "iopub.status.idle": "2025-05-23T05:56:09.066217Z",
     "shell.execute_reply": "2025-05-23T05:56:09.065460Z",
     "shell.execute_reply.started": "2025-05-23T05:56:09.060479Z"
    },
    "jupyter": {
     "outputs_hidden": false
    },
    "trusted": true
   },
   "outputs": [],
   "source": [
    "import numpy as np\n",
    "import pandas as pd\n",
    "import matplotlib.pyplot as plt\n",
    "import seaborn as sns\n",
    "import tensorflow as tf\n",
    "from tensorflow import keras\n",
    "import joblib\n",
    "import pickle\n",
    "import os\n",
    "\n",
    "# NLP & similarity metrics\n",
    "from sklearn.feature_extraction.text import TfidfVectorizer, ENGLISH_STOP_WORDS\n",
    "from sklearn.neighbors import NearestNeighbors\n",
    "\n",
    "# Untuk Collaborative Filtering\n",
    "from sklearn.preprocessing import LabelEncoder\n",
    "from tensorflow.keras.models import Model\n",
    "from tensorflow.keras import layers, regularizers\n",
    "from tensorflow.keras.optimizers import Adam\n",
    "from tensorflow.keras.losses import MeanSquaredError\n",
    "from tensorflow.keras.metrics import RootMeanSquaredError\n",
    "from sklearn.model_selection import train_test_split\n",
    "from tensorflow.keras.callbacks import EarlyStopping\n",
    "from sklearn.metrics import mean_squared_error\n",
    "\n",
    "import warnings\n",
    "warnings.filterwarnings('ignore')"
   ]
  },
  {
   "cell_type": "markdown",
   "metadata": {},
   "source": [
    "**Tahap 1: Import Library**\n",
    "\n",
    "* `pandas`, `numpy`: manipulasi data\n",
    "* `matplotlib`, `seaborn`: visualisasi\n",
    "* `sklearn`: vectorisasi teks, evaluasi metrik, encoding ID\n",
    "* `tensorflow`: deep learning untuk collaborative filtering"
   ]
  },
  {
   "cell_type": "markdown",
   "metadata": {
    "_cell_guid": "83b1b10d-1b5d-4f91-bdef-86755de95a65",
    "_uuid": "4a66bfd5-331b-4009-baed-be09fa89223d",
    "collapsed": false,
    "jupyter": {
     "outputs_hidden": false
    },
    "trusted": true
   },
   "source": [
    "# Load Dataset"
   ]
  },
  {
   "cell_type": "code",
   "execution_count": 41,
   "metadata": {
    "_cell_guid": "02cfd5d7-f89c-49c3-84d4-4c866476a544",
    "_uuid": "b719442f-c6f1-48be-af29-a77be6eb091a",
    "collapsed": false,
    "execution": {
     "iopub.execute_input": "2025-05-23T05:37:20.381809Z",
     "iopub.status.busy": "2025-05-23T05:37:20.381528Z",
     "iopub.status.idle": "2025-05-23T05:37:20.413095Z",
     "shell.execute_reply": "2025-05-23T05:37:20.412377Z",
     "shell.execute_reply.started": "2025-05-23T05:37:20.381793Z"
    },
    "jupyter": {
     "outputs_hidden": false
    },
    "trusted": true
   },
   "outputs": [
    {
     "name": "stdout",
     "output_type": "stream",
     "text": [
      "/kaggle/input/food-com-recipes-and-user-interactions/RAW_interactions.csv\n",
      "/kaggle/input/food-com-recipes-and-user-interactions/ingr_map.pkl\n",
      "/kaggle/input/food-com-recipes-and-user-interactions/PP_recipes.csv\n",
      "/kaggle/input/food-com-recipes-and-user-interactions/RAW_recipes.csv\n",
      "/kaggle/input/food-com-recipes-and-user-interactions/interactions_train.csv\n",
      "/kaggle/input/food-com-recipes-and-user-interactions/interactions_test.csv\n",
      "/kaggle/input/food-com-recipes-and-user-interactions/PP_users.csv\n",
      "/kaggle/input/food-com-recipes-and-user-interactions/interactions_validation.csv\n"
     ]
    }
   ],
   "source": [
    "for dirname, _, filenames in os.walk('/kaggle/input'):\n",
    "    \n",
    "    for filename in filenames:\n",
    "        print(os.path.join(dirname, filename))"
   ]
  },
  {
   "cell_type": "code",
   "execution_count": 42,
   "metadata": {
    "_cell_guid": "77067081-a764-4a44-9c21-53dfa61a5086",
    "_uuid": "b7928767-5a26-4c82-ad4b-191d951f4aef",
    "collapsed": false,
    "execution": {
     "iopub.execute_input": "2025-05-23T05:37:20.414406Z",
     "iopub.status.busy": "2025-05-23T05:37:20.414209Z",
     "iopub.status.idle": "2025-05-23T05:37:29.622707Z",
     "shell.execute_reply": "2025-05-23T05:37:29.622141Z",
     "shell.execute_reply.started": "2025-05-23T05:37:20.414391Z"
    },
    "jupyter": {
     "outputs_hidden": false
    },
    "trusted": true
   },
   "outputs": [],
   "source": [
    "interactions = pd.read_csv('/kaggle/input/food-com-recipes-and-user-interactions/RAW_interactions.csv')\n",
    "recipes = pd.read_csv('/kaggle/input/food-com-recipes-and-user-interactions/RAW_recipes.csv')"
   ]
  },
  {
   "cell_type": "markdown",
   "metadata": {},
   "source": [
    "**Tahap 2: Load Dataset**\n",
    "\n",
    "* Data resep digunakan untuk content-based filtering\n",
    "* Data interaksi digunakan untuk collaborative filtering"
   ]
  },
  {
   "cell_type": "markdown",
   "metadata": {
    "_cell_guid": "b5671942-a29d-42e6-8a1d-ac94b96afc21",
    "_uuid": "57ad0bd2-479b-4623-a35d-eac80ad863c3",
    "collapsed": false,
    "jupyter": {
     "outputs_hidden": false
    },
    "trusted": true
   },
   "source": [
    "# EDA"
   ]
  },
  {
   "cell_type": "code",
   "execution_count": 43,
   "metadata": {
    "_cell_guid": "d658722f-6c43-4204-848b-3fa89a1c8fc7",
    "_uuid": "3138269f-257c-4aec-8974-f80b8c8ae1b8",
    "collapsed": false,
    "execution": {
     "iopub.execute_input": "2025-05-23T05:37:29.623745Z",
     "iopub.status.busy": "2025-05-23T05:37:29.623525Z",
     "iopub.status.idle": "2025-05-23T05:37:29.629689Z",
     "shell.execute_reply": "2025-05-23T05:37:29.628994Z",
     "shell.execute_reply.started": "2025-05-23T05:37:29.623729Z"
    },
    "jupyter": {
     "outputs_hidden": false
    },
    "trusted": true
   },
   "outputs": [
    {
     "name": "stdout",
     "output_type": "stream",
     "text": [
      "   user_id  recipe_id        date  rating  \\\n",
      "0    38094      40893  2003-02-17       4   \n",
      "1  1293707      40893  2011-12-21       5   \n",
      "2     8937      44394  2002-12-01       4   \n",
      "3   126440      85009  2010-02-27       5   \n",
      "4    57222      85009  2011-10-01       5   \n",
      "\n",
      "                                              review  \n",
      "0  Great with a salad. Cooked on top of stove for...  \n",
      "1  So simple, so delicious! Great for chilly fall...  \n",
      "2  This worked very well and is EASY.  I used not...  \n",
      "3  I made the Mexican topping and took it to bunk...  \n",
      "4  Made the cheddar bacon topping, adding a sprin...  \n"
     ]
    }
   ],
   "source": [
    "print(interactions.head())"
   ]
  },
  {
   "cell_type": "markdown",
   "metadata": {},
   "source": [
    "- menampilkan 5 baris data pertama di data interactions"
   ]
  },
  {
   "cell_type": "code",
   "execution_count": 44,
   "metadata": {
    "_cell_guid": "4481390e-fc2e-4c30-8819-766475cbf34b",
    "_uuid": "43204a91-c095-4b75-9492-ac0255924fe1",
    "collapsed": false,
    "execution": {
     "iopub.execute_input": "2025-05-23T05:37:29.631423Z",
     "iopub.status.busy": "2025-05-23T05:37:29.631232Z",
     "iopub.status.idle": "2025-05-23T05:37:29.647236Z",
     "shell.execute_reply": "2025-05-23T05:37:29.646538Z",
     "shell.execute_reply.started": "2025-05-23T05:37:29.631409Z"
    },
    "jupyter": {
     "outputs_hidden": false
    },
    "trusted": true
   },
   "outputs": [
    {
     "name": "stdout",
     "output_type": "stream",
     "text": [
      "                                         name      id  minutes  \\\n",
      "0  arriba   baked winter squash mexican style  137739       55   \n",
      "1            a bit different  breakfast pizza   31490       30   \n",
      "2                   all in the kitchen  chili  112140      130   \n",
      "3                          alouette  potatoes   59389       45   \n",
      "4          amish  tomato ketchup  for canning   44061      190   \n",
      "\n",
      "   contributor_id   submitted  \\\n",
      "0           47892  2005-09-16   \n",
      "1           26278  2002-06-17   \n",
      "2          196586  2005-02-25   \n",
      "3           68585  2003-04-14   \n",
      "4           41706  2002-10-25   \n",
      "\n",
      "                                                tags  \\\n",
      "0  ['60-minutes-or-less', 'time-to-make', 'course...   \n",
      "1  ['30-minutes-or-less', 'time-to-make', 'course...   \n",
      "2  ['time-to-make', 'course', 'preparation', 'mai...   \n",
      "3  ['60-minutes-or-less', 'time-to-make', 'course...   \n",
      "4  ['weeknight', 'time-to-make', 'course', 'main-...   \n",
      "\n",
      "                                    nutrition  n_steps  \\\n",
      "0       [51.5, 0.0, 13.0, 0.0, 2.0, 0.0, 4.0]       11   \n",
      "1   [173.4, 18.0, 0.0, 17.0, 22.0, 35.0, 1.0]        9   \n",
      "2  [269.8, 22.0, 32.0, 48.0, 39.0, 27.0, 5.0]        6   \n",
      "3   [368.1, 17.0, 10.0, 2.0, 14.0, 8.0, 20.0]       11   \n",
      "4   [352.9, 1.0, 337.0, 23.0, 3.0, 0.0, 28.0]        5   \n",
      "\n",
      "                                               steps  \\\n",
      "0  ['make a choice and proceed with recipe', 'dep...   \n",
      "1  ['preheat oven to 425 degrees f', 'press dough...   \n",
      "2  ['brown ground beef in large pot', 'add choppe...   \n",
      "3  ['place potatoes in a large pot of lightly sal...   \n",
      "4  ['mix all ingredients& boil for 2 1 / 2 hours ...   \n",
      "\n",
      "                                         description  \\\n",
      "0  autumn is my favorite time of year to cook! th...   \n",
      "1  this recipe calls for the crust to be prebaked...   \n",
      "2  this modified version of 'mom's' chili was a h...   \n",
      "3  this is a super easy, great tasting, make ahea...   \n",
      "4  my dh's amish mother raised him on this recipe...   \n",
      "\n",
      "                                         ingredients  n_ingredients  \n",
      "0  ['winter squash', 'mexican seasoning', 'mixed ...              7  \n",
      "1  ['prepared pizza crust', 'sausage patty', 'egg...              6  \n",
      "2  ['ground beef', 'yellow onions', 'diced tomato...             13  \n",
      "3  ['spreadable cheese with garlic and herbs', 'n...             11  \n",
      "4  ['tomato juice', 'apple cider vinegar', 'sugar...              8  \n"
     ]
    }
   ],
   "source": [
    "print(recipes.head())"
   ]
  },
  {
   "cell_type": "markdown",
   "metadata": {},
   "source": [
    "- menampilkan 5 baris data pertama di data recipes"
   ]
  },
  {
   "cell_type": "code",
   "execution_count": 45,
   "metadata": {
    "_cell_guid": "2e350294-bc77-4545-91c6-2da7a40a5470",
    "_uuid": "3e63d687-5677-440c-807f-a79dca55bbe9",
    "collapsed": false,
    "execution": {
     "iopub.execute_input": "2025-05-23T05:37:29.648098Z",
     "iopub.status.busy": "2025-05-23T05:37:29.647919Z",
     "iopub.status.idle": "2025-05-23T05:37:29.836869Z",
     "shell.execute_reply": "2025-05-23T05:37:29.836308Z",
     "shell.execute_reply.started": "2025-05-23T05:37:29.648084Z"
    },
    "jupyter": {
     "outputs_hidden": false
    },
    "trusted": true
   },
   "outputs": [
    {
     "data": {
      "text/plain": [
       "user_id        0\n",
       "recipe_id      0\n",
       "date           0\n",
       "rating         0\n",
       "review       169\n",
       "dtype: int64"
      ]
     },
     "execution_count": 45,
     "metadata": {},
     "output_type": "execute_result"
    }
   ],
   "source": [
    "interactions.isna().sum()"
   ]
  },
  {
   "cell_type": "markdown",
   "metadata": {},
   "source": [
    "- mencari tau missing value di data interactions\n",
    "- terdapat missing value di kolom review"
   ]
  },
  {
   "cell_type": "code",
   "execution_count": 46,
   "metadata": {
    "_cell_guid": "31233d05-ee22-4d4b-9f35-e6c56fa01947",
    "_uuid": "83988a42-145d-4336-89bf-b2d018485f4d",
    "collapsed": false,
    "execution": {
     "iopub.execute_input": "2025-05-23T05:37:29.838309Z",
     "iopub.status.busy": "2025-05-23T05:37:29.837770Z",
     "iopub.status.idle": "2025-05-23T05:37:29.965251Z",
     "shell.execute_reply": "2025-05-23T05:37:29.964547Z",
     "shell.execute_reply.started": "2025-05-23T05:37:29.838283Z"
    },
    "jupyter": {
     "outputs_hidden": false
    },
    "trusted": true
   },
   "outputs": [
    {
     "data": {
      "text/plain": [
       "name                 1\n",
       "id                   0\n",
       "minutes              0\n",
       "contributor_id       0\n",
       "submitted            0\n",
       "tags                 0\n",
       "nutrition            0\n",
       "n_steps              0\n",
       "steps                0\n",
       "description       4979\n",
       "ingredients          0\n",
       "n_ingredients        0\n",
       "dtype: int64"
      ]
     },
     "execution_count": 46,
     "metadata": {},
     "output_type": "execute_result"
    }
   ],
   "source": [
    "recipes.isna().sum()"
   ]
  },
  {
   "cell_type": "markdown",
   "metadata": {},
   "source": [
    "- mencari tau missing value di data recipes\n",
    "- terdapat missing value di kolom name dan description"
   ]
  },
  {
   "cell_type": "code",
   "execution_count": 47,
   "metadata": {
    "_cell_guid": "afb25d9a-1b83-4169-bdbc-965233cae80e",
    "_uuid": "a59cacbb-085f-4fce-98d4-d8addf1cddea",
    "collapsed": false,
    "execution": {
     "iopub.execute_input": "2025-05-23T05:37:29.966753Z",
     "iopub.status.busy": "2025-05-23T05:37:29.966117Z",
     "iopub.status.idle": "2025-05-23T05:37:30.631863Z",
     "shell.execute_reply": "2025-05-23T05:37:30.631246Z",
     "shell.execute_reply.started": "2025-05-23T05:37:29.966734Z"
    },
    "jupyter": {
     "outputs_hidden": false
    },
    "trusted": true
   },
   "outputs": [
    {
     "data": {
      "text/plain": [
       "0"
      ]
     },
     "execution_count": 47,
     "metadata": {},
     "output_type": "execute_result"
    }
   ],
   "source": [
    "interactions.duplicated().sum()"
   ]
  },
  {
   "cell_type": "markdown",
   "metadata": {},
   "source": [
    "- tidak ada data duplikat di data interactions"
   ]
  },
  {
   "cell_type": "code",
   "execution_count": 48,
   "metadata": {
    "_cell_guid": "c4d8baa1-c462-405c-9884-d34ba8d8c814",
    "_uuid": "c8fc5f28-c9f8-4da5-b6eb-8a96d5693d70",
    "collapsed": false,
    "execution": {
     "iopub.execute_input": "2025-05-23T05:37:30.633050Z",
     "iopub.status.busy": "2025-05-23T05:37:30.632795Z",
     "iopub.status.idle": "2025-05-23T05:37:31.471648Z",
     "shell.execute_reply": "2025-05-23T05:37:31.470946Z",
     "shell.execute_reply.started": "2025-05-23T05:37:30.633027Z"
    },
    "jupyter": {
     "outputs_hidden": false
    },
    "trusted": true
   },
   "outputs": [
    {
     "data": {
      "text/plain": [
       "0"
      ]
     },
     "execution_count": 48,
     "metadata": {},
     "output_type": "execute_result"
    }
   ],
   "source": [
    "recipes.duplicated().sum()"
   ]
  },
  {
   "cell_type": "markdown",
   "metadata": {},
   "source": [
    "- tidak ada data duplikat di data recipes"
   ]
  },
  {
   "cell_type": "code",
   "execution_count": 49,
   "metadata": {
    "_cell_guid": "7080dd86-c5a0-4396-8360-a4f35dfc22ac",
    "_uuid": "5fff0bc5-604d-4967-b897-871700f61330",
    "collapsed": false,
    "execution": {
     "iopub.execute_input": "2025-05-23T05:37:31.472745Z",
     "iopub.status.busy": "2025-05-23T05:37:31.472446Z",
     "iopub.status.idle": "2025-05-23T05:37:31.657984Z",
     "shell.execute_reply": "2025-05-23T05:37:31.657247Z",
     "shell.execute_reply.started": "2025-05-23T05:37:31.472722Z"
    },
    "jupyter": {
     "outputs_hidden": false
    },
    "trusted": true
   },
   "outputs": [
    {
     "name": "stdout",
     "output_type": "stream",
     "text": [
      "<class 'pandas.core.frame.DataFrame'>\n",
      "RangeIndex: 1132367 entries, 0 to 1132366\n",
      "Data columns (total 5 columns):\n",
      " #   Column     Non-Null Count    Dtype \n",
      "---  ------     --------------    ----- \n",
      " 0   user_id    1132367 non-null  int64 \n",
      " 1   recipe_id  1132367 non-null  int64 \n",
      " 2   date       1132367 non-null  object\n",
      " 3   rating     1132367 non-null  int64 \n",
      " 4   review     1132198 non-null  object\n",
      "dtypes: int64(3), object(2)\n",
      "memory usage: 43.2+ MB\n"
     ]
    }
   ],
   "source": [
    "interactions.info()"
   ]
  },
  {
   "cell_type": "markdown",
   "metadata": {},
   "source": [
    "**Penjelasan:**\n",
    "Digunakan untuk memahami struktur data: jumlah kolom, jenis tipe data, dan jumlah data non-null.\n",
    "\n",
    "**interactions:**\n",
    "\n",
    "* 5 kolom: user\\_id, recipe\\_id, date, rating, review\n",
    "* 1.132.367 entri total\n",
    "* Kolom bertipe kombinasi `int64` dan `object`"
   ]
  },
  {
   "cell_type": "code",
   "execution_count": 50,
   "metadata": {
    "_cell_guid": "c35a3b84-4e08-4cf2-9e7e-59ba0ef9ac61",
    "_uuid": "f3c5b92f-ee7d-4c37-8116-95782e6e7e12",
    "collapsed": false,
    "execution": {
     "iopub.execute_input": "2025-05-23T05:37:31.660801Z",
     "iopub.status.busy": "2025-05-23T05:37:31.660577Z",
     "iopub.status.idle": "2025-05-23T05:37:31.805877Z",
     "shell.execute_reply": "2025-05-23T05:37:31.805202Z",
     "shell.execute_reply.started": "2025-05-23T05:37:31.660784Z"
    },
    "jupyter": {
     "outputs_hidden": false
    },
    "trusted": true
   },
   "outputs": [
    {
     "name": "stdout",
     "output_type": "stream",
     "text": [
      "<class 'pandas.core.frame.DataFrame'>\n",
      "RangeIndex: 231637 entries, 0 to 231636\n",
      "Data columns (total 12 columns):\n",
      " #   Column          Non-Null Count   Dtype \n",
      "---  ------          --------------   ----- \n",
      " 0   name            231636 non-null  object\n",
      " 1   id              231637 non-null  int64 \n",
      " 2   minutes         231637 non-null  int64 \n",
      " 3   contributor_id  231637 non-null  int64 \n",
      " 4   submitted       231637 non-null  object\n",
      " 5   tags            231637 non-null  object\n",
      " 6   nutrition       231637 non-null  object\n",
      " 7   n_steps         231637 non-null  int64 \n",
      " 8   steps           231637 non-null  object\n",
      " 9   description     226658 non-null  object\n",
      " 10  ingredients     231637 non-null  object\n",
      " 11  n_ingredients   231637 non-null  int64 \n",
      "dtypes: int64(5), object(7)\n",
      "memory usage: 21.2+ MB\n"
     ]
    }
   ],
   "source": [
    "recipes.info()"
   ]
  },
  {
   "cell_type": "markdown",
   "metadata": {},
   "source": [
    "**recipes:**\n",
    "\n",
    "* 12 kolom termasuk name, nutrition, ingredients, etc\n",
    "* 231.637 entri total\n",
    "* Kolom bertipe campuran `int64` dan `object`"
   ]
  },
  {
   "cell_type": "code",
   "execution_count": 51,
   "metadata": {
    "_cell_guid": "842ed646-1c28-40c4-b28c-80892f76dfe7",
    "_uuid": "db47eab8-fe22-483e-b144-74cd114d968d",
    "collapsed": false,
    "execution": {
     "iopub.execute_input": "2025-05-23T05:37:31.807095Z",
     "iopub.status.busy": "2025-05-23T05:37:31.806792Z",
     "iopub.status.idle": "2025-05-23T05:37:32.553096Z",
     "shell.execute_reply": "2025-05-23T05:37:32.552507Z",
     "shell.execute_reply.started": "2025-05-23T05:37:31.807073Z"
    },
    "jupyter": {
     "outputs_hidden": false
    },
    "trusted": true
   },
   "outputs": [
    {
     "data": {
      "image/png": "[encoded data removed]",
      "text/plain": [
       "<Figure size 640x480 with 1 Axes>"
      ]
     },
     "metadata": {},
     "output_type": "display_data"
    }
   ],
   "source": [
    "sns.histplot(interactions['rating'], bins=20)\n",
    "plt.title('Distribusi Rating')\n",
    "plt.xlabel('Rating')\n",
    "plt.ylabel('Frekuensi')\n",
    "plt.show()"
   ]
  },
  {
   "cell_type": "markdown",
   "metadata": {},
   "source": [
    "**Insight:**\n",
    "Distribusi rating sangat tidak seimbang dengan dominasi rating 5. Hal ini menunjukkan bahwa pengguna cenderung hanya memberi nilai tinggi."
   ]
  },
  {
   "cell_type": "code",
   "execution_count": 52,
   "metadata": {
    "_cell_guid": "49df3648-6dca-4f41-80ad-2d70c7c0a1ce",
    "_uuid": "2f304a4f-bec1-4711-ad0a-90f49129478b",
    "collapsed": false,
    "execution": {
     "iopub.execute_input": "2025-05-23T05:37:32.554075Z",
     "iopub.status.busy": "2025-05-23T05:37:32.553822Z",
     "iopub.status.idle": "2025-05-23T05:37:32.875857Z",
     "shell.execute_reply": "2025-05-23T05:37:32.875018Z",
     "shell.execute_reply.started": "2025-05-23T05:37:32.554057Z"
    },
    "jupyter": {
     "outputs_hidden": false
    },
    "trusted": true
   },
   "outputs": [
    {
     "data": {
      "image/png": "[encoded data removed]",
      "text/plain": [
       "<Figure size 640x480 with 1 Axes>"
      ]
     },
     "metadata": {},
     "output_type": "display_data"
    }
   ],
   "source": [
    "user_counts = interactions['user_id'].value_counts()\n",
    "sns.histplot(user_counts, bins=50)\n",
    "plt.title('Jumlah Rating per User')\n",
    "plt.xlabel('Jumlah Rating')\n",
    "plt.ylabel('Jumlah User')\n",
    "plt.show()"
   ]
  },
  {
   "cell_type": "markdown",
   "metadata": {},
   "source": [
    "**Insight:**\n",
    "Sebagian besar pengguna memberikan sedikit rating, menunjukkan ketimpangan aktivitas antar pengguna."
   ]
  },
  {
   "cell_type": "code",
   "execution_count": 53,
   "metadata": {
    "_cell_guid": "dc813d0b-89c2-4196-8274-4313af438718",
    "_uuid": "9fec3eae-4014-47ea-9c60-a163e8a88a50",
    "collapsed": false,
    "execution": {
     "iopub.execute_input": "2025-05-23T05:37:32.877051Z",
     "iopub.status.busy": "2025-05-23T05:37:32.876795Z",
     "iopub.status.idle": "2025-05-23T05:37:33.144628Z",
     "shell.execute_reply": "2025-05-23T05:37:33.144016Z",
     "shell.execute_reply.started": "2025-05-23T05:37:32.877033Z"
    },
    "jupyter": {
     "outputs_hidden": false
    },
    "trusted": true
   },
   "outputs": [
    {
     "data": {
      "image/png": "[encoded data removed]",
      "text/plain": [
       "<Figure size 640x480 with 1 Axes>"
      ]
     },
     "metadata": {},
     "output_type": "display_data"
    }
   ],
   "source": [
    "sns.boxplot(x=interactions['rating'])\n",
    "plt.title('Boxplot Rating (Outlier Detection)')\n",
    "plt.show()"
   ]
  },
  {
   "cell_type": "markdown",
   "metadata": {},
   "source": [
    "**Insight:**\n",
    "Boxplot menunjukkan adanya beberapa outlier terutama pada rating rendah (0-2), walau mayoritas rating berada pada kisaran tinggi."
   ]
  },
  {
   "cell_type": "code",
   "execution_count": 54,
   "metadata": {
    "_cell_guid": "ec8c8ece-a0bb-4a14-8fd8-e4771a36ba12",
    "_uuid": "d6e0b730-d3a3-4c31-9900-e615dec21c3d",
    "collapsed": false,
    "execution": {
     "iopub.execute_input": "2025-05-23T05:37:33.145409Z",
     "iopub.status.busy": "2025-05-23T05:37:33.145234Z",
     "iopub.status.idle": "2025-05-23T05:37:34.437293Z",
     "shell.execute_reply": "2025-05-23T05:37:34.436482Z",
     "shell.execute_reply.started": "2025-05-23T05:37:33.145395Z"
    },
    "jupyter": {
     "outputs_hidden": false
    },
    "trusted": true
   },
   "outputs": [
    {
     "data": {
      "image/png": "[encoded data removed]",
      "text/plain": [
       "<Figure size 640x480 with 2 Axes>"
      ]
     },
     "metadata": {},
     "output_type": "display_data"
    }
   ],
   "source": [
    "nutrition_df = recipes['nutrition'].str.strip('[]').str.split(',', expand=True).astype(float)\n",
    "nutrition_df.columns = ['calories', 'total_fat', 'sugar', 'sodium', 'protein', 'saturated_fat', 'carbs']\n",
    "sns.heatmap(nutrition_df.corr(), annot=True, cmap='coolwarm')\n",
    "plt.title('Korelasi antar Fitur Nutrisi')\n",
    "plt.show()"
   ]
  },
  {
   "cell_type": "markdown",
   "metadata": {},
   "source": [
    "**Insight:**\n",
    "Terdapat korelasi tinggi antara sugar dan carbs, serta total_fat dengan saturated_fat"
   ]
  },
  {
   "cell_type": "code",
   "execution_count": 55,
   "metadata": {
    "_cell_guid": "dd9bf061-6d9f-40b1-b06f-dcfac45184a3",
    "_uuid": "bc3083c6-d46e-45fa-a42e-7bc8a3e5588e",
    "collapsed": false,
    "execution": {
     "iopub.execute_input": "2025-05-23T05:37:34.438784Z",
     "iopub.status.busy": "2025-05-23T05:37:34.438478Z",
     "iopub.status.idle": "2025-05-23T05:37:34.700143Z",
     "shell.execute_reply": "2025-05-23T05:37:34.699407Z",
     "shell.execute_reply.started": "2025-05-23T05:37:34.438764Z"
    },
    "jupyter": {
     "outputs_hidden": false
    },
    "trusted": true
   },
   "outputs": [
    {
     "data": {
      "image/png": "[encoded data removed]",
      "text/plain": [
       "<Figure size 640x480 with 1 Axes>"
      ]
     },
     "metadata": {},
     "output_type": "display_data"
    }
   ],
   "source": [
    "sns.histplot(recipes['n_ingredients'], bins=30)\n",
    "plt.title('Distribusi Jumlah Bahan Resep')\n",
    "plt.xlabel('Jumlah Bahan')\n",
    "plt.ylabel('Jumlah Resep')\n",
    "plt.show()"
   ]
  },
  {
   "cell_type": "markdown",
   "metadata": {},
   "source": [
    "**Insight:**\n",
    "Mayoritas resep memiliki 7–13 bahan. Ini dapat menjadi indikator kompleksitas resep yang disukai pengguna.\n",
    "\n"
   ]
  },
  {
   "cell_type": "markdown",
   "metadata": {
    "_cell_guid": "2132f854-acb9-4066-9770-5d925dfcf57e",
    "_uuid": "5ae8850b-4e1b-4eab-8552-506c6301dafe",
    "collapsed": false,
    "jupyter": {
     "outputs_hidden": false
    },
    "trusted": true
   },
   "source": [
    "# Data Preprosessing"
   ]
  },
  {
   "cell_type": "code",
   "execution_count": 56,
   "metadata": {
    "_cell_guid": "ac016483-9dbe-4307-8c2e-c88f8da9ae05",
    "_uuid": "601c4e7a-6a4f-4232-967c-a3b9e6d79733",
    "collapsed": false,
    "execution": {
     "iopub.execute_input": "2025-05-23T05:37:34.701228Z",
     "iopub.status.busy": "2025-05-23T05:37:34.700971Z",
     "iopub.status.idle": "2025-05-23T05:37:35.023335Z",
     "shell.execute_reply": "2025-05-23T05:37:35.022450Z",
     "shell.execute_reply.started": "2025-05-23T05:37:34.701206Z"
    },
    "jupyter": {
     "outputs_hidden": false
    },
    "trusted": true
   },
   "outputs": [],
   "source": [
    "recipes['description'] = recipes['description'].fillna('No description provided by user.')\n",
    "recipes['name'] = recipes['name'].fillna('Unnamed Recipe')\n",
    "recipes['ingredients'] = recipes['ingredients'].fillna(\"['No ingredients listed']\")\n",
    "interactions['review'] = interactions['review'].fillna('No review provided by user.')"
   ]
  },
  {
   "cell_type": "markdown",
   "metadata": {},
   "source": [
    "**Data Preprocessing - Handling Missing Values**\n",
    "\n",
    "Pada tahap ini, dilakukan pembersihan data dengan mengisi nilai kosong (missing values) pada kolom-kolom penting di dataset agar siap untuk tahap ekstraksi fitur dan pelatihan model.\n",
    "\n",
    "**Penyesuaian yang dilakukan:**\n",
    "\n",
    "\n",
    "- **`description`**: Diisi dengan `\"No description provided by user.\"` untuk menjaga konsistensi pada input deskripsi resep.\n",
    "- **`name`**: Diisi dengan `\"Unnamed Recipe\"` sebagai penanda jika nama resep tidak tersedia.\n",
    "- **`ingredients`**: Diisi dengan list string `\"['No ingredients listed']\"` untuk menjaga struktur saat dilakukan parsing dan tokenisasi bahan.\n",
    "- **`review`**: Diisi dengan `\"No review provided by user.\"` untuk mempermudah analisis teks atau agregasi feedback."
   ]
  },
  {
   "cell_type": "markdown",
   "metadata": {
    "_cell_guid": "395a1cec-6996-49a5-96f9-8d904ccaac9a",
    "_uuid": "af26ed64-368f-4a4d-a4b0-7a1759f3bcb3",
    "collapsed": false,
    "jupyter": {
     "outputs_hidden": false
    },
    "trusted": true
   },
   "source": [
    "# Feature Engineering - Content-Based Representation\n"
   ]
  },
  {
   "cell_type": "code",
   "execution_count": 57,
   "metadata": {
    "_cell_guid": "d75d4e9c-f6f7-4da2-bdef-e9aab92436fd",
    "_uuid": "c98f9d4a-e92d-4b60-b6b1-03ae46c6d516",
    "collapsed": false,
    "execution": {
     "iopub.execute_input": "2025-05-23T05:37:35.024613Z",
     "iopub.status.busy": "2025-05-23T05:37:35.024366Z",
     "iopub.status.idle": "2025-05-23T05:37:46.690250Z",
     "shell.execute_reply": "2025-05-23T05:37:46.689707Z",
     "shell.execute_reply.started": "2025-05-23T05:37:35.024596Z"
    },
    "jupyter": {
     "outputs_hidden": false
    },
    "trusted": true
   },
   "outputs": [],
   "source": [
    "recipes['content'] = recipes['name'] + ' ' + recipes['description'] + ' ' + recipes['ingredients'].apply(lambda x: ' '.join(eval(x)))\n",
    "\n",
    "stop_words = ENGLISH_STOP_WORDS\n",
    "\n",
    "recipes = recipes.dropna(subset=['content'])\n",
    "\n",
    "vectorizer = TfidfVectorizer(max_features=5000, stop_words='english')\n",
    "tfidf_matrix = vectorizer.fit_transform(recipes['content'])"
   ]
  },
  {
   "cell_type": "markdown",
   "metadata": {},
   "source": [
    "1. **Pembuatan Fitur `content`**:\n",
    "   - Tiga kolom utama yaitu `name`, `description`, dan `ingredients` digabung menjadi satu string teks panjang yang disebut sebagai `content`.\n",
    "   - Kolom `ingredients` diparsing dari string list menjadi bentuk list asli menggunakan `eval`, lalu digabung menggunakan spasi.\n",
    "   - Ini menghasilkan deskripsi utuh setiap resep yang mencakup judul, penjelasan, dan daftar bahan.\n",
    "\n",
    "2. **Penghapusan Nilai Kosong**:\n",
    "   - Meskipun sebelumnya missing values telah diisi, sebagai jaga-jaga dilakukan penghapusan baris yang memiliki nilai kosong pada kolom `content` untuk memastikan kualitas input vektorisasi.\n",
    "\n",
    "3. **TF-IDF Vectorization**:\n",
    "   - Fitur `content` kemudian dikonversi ke bentuk numerik menggunakan **TF-IDF (Term Frequency-Inverse Document Frequency)**.\n",
    "   - `TfidfVectorizer` digunakan dengan parameter:\n",
    "     - `max_features=5000`: membatasi jumlah fitur agar tetap efisien.\n",
    "     - `stop_words='english'`: menghilangkan kata-kata umum (stopwords) dalam bahasa Inggris agar tidak mendominasi representasi.\n",
    "   - Hasil akhir adalah matriks sparse berdimensi `[jumlah_resep x 5000]` yang menggambarkan bobot pentingnya kata-kata dalam setiap resep."
   ]
  },
  {
   "cell_type": "markdown",
   "metadata": {
    "_cell_guid": "71b2d915-6563-47e1-a7d6-9a9ec5beba90",
    "_uuid": "9881c81e-6f5c-41f3-a362-56e0edda4fd2",
    "collapsed": false,
    "jupyter": {
     "outputs_hidden": false
    },
    "trusted": true
   },
   "source": [
    "# Content Based Filtering (Modelling dan Rekomendasi)"
   ]
  },
  {
   "cell_type": "code",
   "execution_count": 74,
   "metadata": {
    "_cell_guid": "87090b19-353a-41f6-923d-70626383503a",
    "_uuid": "b909d216-02ee-49c7-9807-3ec12ac7cee6",
    "collapsed": false,
    "execution": {
     "iopub.execute_input": "2025-05-23T05:58:17.044038Z",
     "iopub.status.busy": "2025-05-23T05:58:17.043775Z",
     "iopub.status.idle": "2025-05-23T05:58:17.081281Z",
     "shell.execute_reply": "2025-05-23T05:58:17.080541Z",
     "shell.execute_reply.started": "2025-05-23T05:58:17.044019Z"
    },
    "jupyter": {
     "outputs_hidden": false
    },
    "trusted": true
   },
   "outputs": [],
   "source": [
    "name_to_index = pd.Series(recipes.index, index=recipes['name']).drop_duplicates()\n",
    "nn_model = NearestNeighbors(metric='cosine', algorithm='brute')\n",
    "nn_model.fit(tfidf_matrix)\n",
    "\n",
    "def recommend_content(name, top_n=5):\n",
    "    idx = name_to_index[name]\n",
    "    distances, indices = nn_model.kneighbors(tfidf_matrix[idx], n_neighbors=top_n + 1)\n",
    "    indices = indices.flatten()[1:] \n",
    "    return recipes.iloc[indices][['id', 'name', 'description']]"
   ]
  },
  {
   "cell_type": "markdown",
   "metadata": {},
   "source": [
    "Setelah TF-IDF matrix berhasil dibentuk, langkah selanjutnya adalah membangun sistem rekomendasi berbasis kemiripan antar resep.\n",
    "\n",
    "1. **Mapping Nama Resep ke Indeks**\n",
    "   - `name_to_index` digunakan untuk membuat pemetaan dari nama resep ke indeks baris pada DataFrame `recipes`.\n",
    "   - Hal ini memungkinkan pengguna memasukkan nama resep sebagai input saat meminta rekomendasi.\n",
    "\n",
    "2. **Model Nearest Neighbors**\n",
    "   - `NearestNeighbors` dari `sklearn` digunakan dengan metrik **cosine similarity**, metode umum dalam content-based filtering.\n",
    "   - Parameter `algorithm='brute'` digunakan karena ukuran data besar dan cosine similarity tidak bisa dioptimalkan dengan k-d tree atau ball tree.\n",
    "\n",
    "3. **Fungsi Rekomendasi: `recommend_content(name)`**\n",
    "   - Fungsi menerima nama resep sebagai input.\n",
    "   - Mencari resep dengan TF-IDF yang paling mirip (berdasarkan cosine similarity).\n",
    "   - Mengembalikan `top_n` resep serupa (selain dirinya sendiri), termasuk kolom `id`, `name`, dan `description` untuk konteks pengguna."
   ]
  },
  {
   "cell_type": "markdown",
   "metadata": {},
   "source": [
    "# Inference"
   ]
  },
  {
   "cell_type": "code",
   "execution_count": 75,
   "metadata": {
    "_cell_guid": "a4352882-4a2f-4da5-8da0-2418599fc2c9",
    "_uuid": "73739131-5108-4c87-a717-0fee6000242a",
    "collapsed": false,
    "execution": {
     "iopub.execute_input": "2025-05-23T05:58:18.686992Z",
     "iopub.status.busy": "2025-05-23T05:58:18.686721Z",
     "iopub.status.idle": "2025-05-23T05:58:18.904048Z",
     "shell.execute_reply": "2025-05-23T05:58:18.903306Z",
     "shell.execute_reply.started": "2025-05-23T05:58:18.686971Z"
    },
    "jupyter": {
     "outputs_hidden": false
    },
    "trusted": true
   },
   "outputs": [
    {
     "name": "stdout",
     "output_type": "stream",
     "text": [
      "Rekomendasi makanan yang mirip 'Cream of Spinach Soup':\n",
      "            id                   name  \\\n",
      "90638   439094    garlic spinach soup   \n",
      "212930   24176     thick spinach soup   \n",
      "187314   13901    simple spinach soup   \n",
      "174552  339220       rivvels for soup   \n",
      "112580  366002  italian egg drop soup   \n",
      "\n",
      "                                              description  \n",
      "90638   the garlic is the star of this creamy soup. wh...  \n",
      "212930  lovely and thick spinach soup. i don't like sp...  \n",
      "187314  i made this recipe after eating spinach soup i...  \n",
      "174552  rivvels are small flour dumplings.  add this s...  \n",
      "112580  this soup could not be any easier.  my family ...  \n"
     ]
    }
   ],
   "source": [
    "print(\"Rekomendasi makanan yang mirip 'Cream of Spinach Soup':\")\n",
    "print(recommend_content(\"cream of spinach soup\"))"
   ]
  },
  {
   "cell_type": "markdown",
   "metadata": {},
   "source": [
    "Inference menggunakan data input cream of spinach soup"
   ]
  },
  {
   "cell_type": "code",
   "execution_count": 76,
   "metadata": {
    "_cell_guid": "f26ca3c7-1a00-46c9-9025-2baf908d5e11",
    "_uuid": "f4879e79-46cf-4031-a841-4aa959b29d99",
    "collapsed": false,
    "execution": {
     "iopub.execute_input": "2025-05-23T05:58:26.223788Z",
     "iopub.status.busy": "2025-05-23T05:58:26.223114Z",
     "iopub.status.idle": "2025-05-23T05:58:26.408518Z",
     "shell.execute_reply": "2025-05-23T05:58:26.407706Z",
     "shell.execute_reply.started": "2025-05-23T05:58:26.223765Z"
    },
    "jupyter": {
     "outputs_hidden": false
    },
    "trusted": true
   },
   "outputs": [
    {
     "name": "stdout",
     "output_type": "stream",
     "text": [
      "Rekomendasi makanan yang mirip 'fried potatoes':\n",
      "            id                                name  \\\n",
      "151170  101991                 oven fried potatoes   \n",
      "87909    39505                fried sweet potatoes   \n",
      "129131  216887               mama s sweet potatoes   \n",
      "64921   458326          crispy oven fried potatoes   \n",
      "152102  184767  pan fried potatoes  bratkartoffeln   \n",
      "\n",
      "                                              description  \n",
      "151170                                       really good.  \n",
      "87909   these potatoes are great! a perfect side for h...  \n",
      "129131  my mom's from down south and she got this reci...  \n",
      "64921                    yummy garlic oven fried potatoes  \n",
      "152102  a quick german favorite from leftover potatoes...  \n"
     ]
    }
   ],
   "source": [
    "print(\"Rekomendasi makanan yang mirip 'fried potatoes':\")\n",
    "print(recommend_content(\"fried potatoes\"))"
   ]
  },
  {
   "cell_type": "markdown",
   "metadata": {},
   "source": [
    "Inference menggunakan data input fried potatoes"
   ]
  },
  {
   "cell_type": "code",
   "execution_count": 77,
   "metadata": {
    "_cell_guid": "bb6efbc0-af2e-4b75-994b-406491fdf3cd",
    "_uuid": "f48a3894-24c9-4a52-bf95-802052ff8d2e",
    "collapsed": false,
    "execution": {
     "iopub.execute_input": "2025-05-23T05:58:27.352137Z",
     "iopub.status.busy": "2025-05-23T05:58:27.351872Z",
     "iopub.status.idle": "2025-05-23T05:58:27.540871Z",
     "shell.execute_reply": "2025-05-23T05:58:27.539999Z",
     "shell.execute_reply.started": "2025-05-23T05:58:27.352118Z"
    },
    "jupyter": {
     "outputs_hidden": false
    },
    "trusted": true
   },
   "outputs": [
    {
     "name": "stdout",
     "output_type": "stream",
     "text": [
      "Rekomendasi makanan yang mirip 'pasta':\n",
      "            id                                         name  \\\n",
      "104993  252861                herbed angel hair pasta for 2   \n",
      "154128   11402                              pasta with sand   \n",
      "153730  143755                             pasta margherita   \n",
      "161314  270432                        pizza pasta casserole   \n",
      "5430    456846  angel hair pasta with simple garlic   basil   \n",
      "\n",
      "                                              description  \n",
      "104993                    nice dish for an italian dinner  \n",
      "154128  if you love pasta as i do, you should like thi...  \n",
      "153730  the toppings of this pasta are the same as use...  \n",
      "161314  quick, simple and delicious!  sure to please t...  \n",
      "5430    i adore angel hair pasta, and such a fine past...  \n"
     ]
    }
   ],
   "source": [
    "print(\"Rekomendasi makanan yang mirip 'pasta':\")\n",
    "print(recommend_content(\"pasta\"))"
   ]
  },
  {
   "cell_type": "markdown",
   "metadata": {},
   "source": [
    "Inference menggunakan data input pasta"
   ]
  },
  {
   "cell_type": "code",
   "execution_count": 78,
   "metadata": {
    "execution": {
     "iopub.execute_input": "2025-05-23T05:59:00.130474Z",
     "iopub.status.busy": "2025-05-23T05:59:00.129984Z",
     "iopub.status.idle": "2025-05-23T05:59:00.570791Z",
     "shell.execute_reply": "2025-05-23T05:59:00.570196Z",
     "shell.execute_reply.started": "2025-05-23T05:59:00.130451Z"
    },
    "trusted": true
   },
   "outputs": [],
   "source": [
    "# Simpan vectorizer dan matrix\n",
    "joblib.dump(vectorizer, 'tfidf_vectorizer.pkl')\n",
    "joblib.dump(tfidf_matrix, 'tfidf_matrix.pkl')\n",
    "\n",
    "# Simpan model NearestNeighbors\n",
    "joblib.dump(nn_model, 'nearest_neighbors_model.pkl')\n",
    "\n",
    "# Simpan mapping indeks \n",
    "with open('name_to_index.pkl', 'wb') as f:\n",
    "    pickle.dump(name_to_index, f)"
   ]
  },
  {
   "cell_type": "markdown",
   "metadata": {},
   "source": [
    "**Save Model**\n",
    "\n",
    "1. **TF-IDF Vectorizer**\n",
    "   - Disimpan menggunakan `joblib` sebagai `tfidf_vectorizer.pkl`.\n",
    "   - Digunakan untuk mengubah teks resep baru ke dalam vektor fitur.\n",
    "\n",
    "2. **TF-IDF Matrix**\n",
    "   - Matrix hasil transformasi semua resep disimpan sebagai `tfidf_matrix.pkl`.\n",
    "   - Berguna untuk inference ulang atau jika ingin menambahkan rekomendasi baru tanpa mengulang proses training.\n",
    "\n",
    "3. **Model Nearest Neighbors**\n",
    "   - Objek model `NearestNeighbors` disimpan sebagai `nearest_neighbors_model.pkl`.\n",
    "   - Ini memungkinkan kita untuk memuat model dan langsung melakukan rekomendasi di sesi atau aplikasi lain.\n",
    "\n",
    "4. **Mapping Nama ke Indeks**\n",
    "   - Dictionary `name_to_index` digunakan untuk mencari indeks resep berdasarkan nama input.\n",
    "   - Disimpan sebagai file pickle `name_to_index.pkl`."
   ]
  },
  {
   "cell_type": "markdown",
   "metadata": {
    "_cell_guid": "bffad7c0-49c3-4101-9782-c8f0c772c2b3",
    "_uuid": "cdc78866-81ac-4c61-8a4f-8a13bacd748b",
    "collapsed": false,
    "jupyter": {
     "outputs_hidden": false
    },
    "trusted": true
   },
   "source": [
    "# Data Preprocessing - Collaborative Filtering"
   ]
  },
  {
   "cell_type": "code",
   "execution_count": 62,
   "metadata": {
    "_cell_guid": "ff6bc127-3f4f-4d03-96d0-2ef0f5aca87a",
    "_uuid": "b47b16d9-f25b-4163-b09e-1b0b567cb297",
    "collapsed": false,
    "execution": {
     "iopub.execute_input": "2025-05-23T05:37:47.311165Z",
     "iopub.status.busy": "2025-05-23T05:37:47.310685Z",
     "iopub.status.idle": "2025-05-23T05:37:47.905353Z",
     "shell.execute_reply": "2025-05-23T05:37:47.904818Z",
     "shell.execute_reply.started": "2025-05-23T05:37:47.311139Z"
    },
    "jupyter": {
     "outputs_hidden": false
    },
    "trusted": true
   },
   "outputs": [],
   "source": [
    "user_encoder = LabelEncoder()\n",
    "item_encoder = LabelEncoder()\n",
    "\n",
    "interactions['user'] = user_encoder.fit_transform(interactions['user_id'])\n",
    "interactions['item'] = item_encoder.fit_transform(interactions['recipe_id'])\n",
    "\n",
    "user_encoded_to_user = dict(enumerate(user_encoder.classes_))\n",
    "item_encoded_to_item = dict(enumerate(item_encoder.classes_))\n",
    "\n",
    "min_rating = interactions['rating'].min()\n",
    "max_rating = interactions['rating'].max()\n",
    "\n",
    "interactions['rating_normalized'] = interactions['rating'].apply(lambda x: (x - min_rating) / (max_rating - min_rating))\n",
    "\n",
    "X = interactions[['user', 'item']].values\n",
    "y = interactions['rating_normalized'].values\n",
    "\n",
    "x_train, x_val, y_train, y_val = train_test_split(X, y, test_size=0.2, random_state=42)\n",
    "\n",
    "y_train = y_train.reshape(-1, 1)\n",
    "y_val = y_val.reshape(-1, 1)"
   ]
  },
  {
   "cell_type": "markdown",
   "metadata": {},
   "source": [
    "1. **Encoding User dan Item ID**\n",
    "   - `user_id` dan `recipe_id` diubah menjadi indeks numerik menggunakan `LabelEncoder`.\n",
    "   - Model deep learning membutuhkan input integer untuk digunakan dalam layer embedding.\n",
    "   - Disimpan juga mapping `user_encoded_to_user` dan `item_encoded_to_item` untuk keperluan decoding hasil model.\n",
    "\n",
    "2. **Normalisasi Rating**\n",
    "   - Skor rating dinormalisasi ke skala [0, 1] menggunakan metode Min-Max Scaling.\n",
    "   - Tujuannya agar target rating kompatibel dengan output model (aktivasi sigmoid di akhir).\n",
    "\n",
    "3. **Membentuk Dataset X dan y**\n",
    "   - `X`: kombinasi pasangan `[user, item]` untuk setiap baris interaksi.\n",
    "   - `y`: target prediksi berupa nilai rating yang telah dinormalisasi.\n",
    "\n",
    "4. **Split Dataset**\n",
    "   - Data dibagi menjadi data latih (`x_train`, `y_train`) dan validasi (`x_val`, `y_val`) menggunakan rasio 80:20.\n",
    "   - Ini memungkinkan model dievaluasi terhadap data yang tidak dilihat saat pelatihan.\n",
    "\n",
    "5. **Reshape Target**\n",
    "   - Rating disusun ulang ke format `n x 1` agar sesuai dengan bentuk output model."
   ]
  },
  {
   "cell_type": "markdown",
   "metadata": {},
   "source": [
    "# Collaborative Filtering (modelling dan rekomendasi)"
   ]
  },
  {
   "cell_type": "code",
   "execution_count": 63,
   "metadata": {
    "_cell_guid": "08e4ae62-4c52-4e83-a1a5-7f97417acfaf",
    "_uuid": "c5674bc3-332c-4e76-beb6-7ed8290c0d95",
    "collapsed": false,
    "execution": {
     "iopub.execute_input": "2025-05-23T05:37:47.906311Z",
     "iopub.status.busy": "2025-05-23T05:37:47.906095Z",
     "iopub.status.idle": "2025-05-23T05:37:47.912098Z",
     "shell.execute_reply": "2025-05-23T05:37:47.911561Z",
     "shell.execute_reply.started": "2025-05-23T05:37:47.906294Z"
    },
    "jupyter": {
     "outputs_hidden": false
    },
    "trusted": true
   },
   "outputs": [],
   "source": [
    "class RecommenderNet(Model):\n",
    "    def __init__(self, num_users, num_items, embedding_size=50, **kwargs):\n",
    "        super(RecommenderNet, self).__init__(**kwargs)\n",
    "        self.user_embedding = layers.Embedding(\n",
    "            num_users, embedding_size,\n",
    "            embeddings_initializer='he_normal',\n",
    "            embeddings_regularizer=regularizers.l2(1e-6)\n",
    "        )\n",
    "        self.user_bias = layers.Embedding(num_users, 1)\n",
    "\n",
    "        self.item_embedding = layers.Embedding(\n",
    "            num_items, embedding_size,\n",
    "            embeddings_initializer='he_normal',\n",
    "            embeddings_regularizer=regularizers.l2(1e-6)\n",
    "        )\n",
    "        self.item_bias = layers.Embedding(num_items, 1)\n",
    "\n",
    "    def call(self, inputs):\n",
    "        user_vector = self.user_embedding(inputs[:, 0])\n",
    "        user_bias = self.user_bias(inputs[:, 0])\n",
    "        item_vector = self.item_embedding(inputs[:, 1])\n",
    "        item_bias = self.item_bias(inputs[:, 1])\n",
    "        dot_user_item = tf.tensordot(user_vector, item_vector, 2)\n",
    "        x = dot_user_item + user_bias + item_bias\n",
    "        return x"
   ]
  },
  {
   "cell_type": "markdown",
   "metadata": {},
   "source": [
    "**Arsitektur Model:**\n",
    "\n",
    "1. **Embedding Layer untuk User dan Item**\n",
    "   - `user_embedding`: mengubah user ID menjadi vektor berdimensi `embedding_size`\n",
    "   - `item_embedding`: mengubah item ID (resep) menjadi vektor embedding\n",
    "   - Digunakan `he_normal` sebagai inisialisasi bobot dan regularisasi L2 untuk mencegah overfitting\n",
    "\n",
    "2. **Bias Layer**\n",
    "   - `user_bias` dan `item_bias`: menangkap kecenderungan rata-rata dari masing-masing user dan item terhadap rating\n",
    "   - Ditambahkan langsung ke prediksi akhir untuk memperbaiki hasil model\n",
    "\n",
    "3. **Dot Product**\n",
    "   - Prediksi utama dilakukan dengan menghitung **dot product** antara vektor user dan item\n",
    "   - Hasil dot product mencerminkan seberapa cocok (similar) preferensi pengguna terhadap item\n",
    "\n",
    "4. **Output**\n",
    "   - Hasil akhir adalah penjumlahan antara dot product dan bias\n",
    "   - Tidak menggunakan aktivasi (seperti sigmoid) karena regresi rating dilakukan langsung pada nilai numerik"
   ]
  },
  {
   "cell_type": "code",
   "execution_count": 64,
   "metadata": {
    "_cell_guid": "24bbffa6-beaf-4bc4-a05e-f9197328c48b",
    "_uuid": "f8768190-1444-451a-9141-0e5c8643a98f",
    "collapsed": false,
    "execution": {
     "iopub.execute_input": "2025-05-23T05:37:47.913088Z",
     "iopub.status.busy": "2025-05-23T05:37:47.912859Z",
     "iopub.status.idle": "2025-05-23T05:51:36.702056Z",
     "shell.execute_reply": "2025-05-23T05:51:36.701434Z",
     "shell.execute_reply.started": "2025-05-23T05:37:47.913070Z"
    },
    "jupyter": {
     "outputs_hidden": false
    },
    "trusted": true
   },
   "outputs": [
    {
     "name": "stdout",
     "output_type": "stream",
     "text": [
      "Epoch 1/20\n",
      "\u001b[1m14155/14155\u001b[0m \u001b[32m━━━━━━━━━━━━━━━━━━━━\u001b[0m\u001b[37m\u001b[0m \u001b[1m67s\u001b[0m 5ms/step - loss: 0.6667 - root_mean_squared_error: 0.8115 - val_loss: 0.0907 - val_root_mean_squared_error: 0.3001\n",
      "Epoch 2/20\n",
      "\u001b[1m14155/14155\u001b[0m \u001b[32m━━━━━━━━━━━━━━━━━━━━\u001b[0m\u001b[37m\u001b[0m \u001b[1m63s\u001b[0m 4ms/step - loss: 0.0827 - root_mean_squared_error: 0.2863 - val_loss: 0.0872 - val_root_mean_squared_error: 0.2939\n",
      "Epoch 3/20\n",
      "\u001b[1m14155/14155\u001b[0m \u001b[32m━━━━━━━━━━━━━━━━━━━━\u001b[0m\u001b[37m\u001b[0m \u001b[1m64s\u001b[0m 4ms/step - loss: 0.0746 - root_mean_squared_error: 0.2716 - val_loss: 0.0840 - val_root_mean_squared_error: 0.2880\n",
      "Epoch 4/20\n",
      "\u001b[1m14155/14155\u001b[0m \u001b[32m━━━━━━━━━━━━━━━━━━━━\u001b[0m\u001b[37m\u001b[0m \u001b[1m63s\u001b[0m 4ms/step - loss: 0.0725 - root_mean_squared_error: 0.2674 - val_loss: 0.0835 - val_root_mean_squared_error: 0.2871\n",
      "Epoch 5/20\n",
      "\u001b[1m14155/14155\u001b[0m \u001b[32m━━━━━━━━━━━━━━━━━━━━\u001b[0m\u001b[37m\u001b[0m \u001b[1m63s\u001b[0m 4ms/step - loss: 0.0698 - root_mean_squared_error: 0.2621 - val_loss: 0.0818 - val_root_mean_squared_error: 0.2840\n",
      "Epoch 6/20\n",
      "\u001b[1m14155/14155\u001b[0m \u001b[32m━━━━━━━━━━━━━━━━━━━━\u001b[0m\u001b[37m\u001b[0m \u001b[1m63s\u001b[0m 4ms/step - loss: 0.0678 - root_mean_squared_error: 0.2582 - val_loss: 0.0810 - val_root_mean_squared_error: 0.2825\n",
      "Epoch 7/20\n",
      "\u001b[1m14155/14155\u001b[0m \u001b[32m━━━━━━━━━━━━━━━━━━━━\u001b[0m\u001b[37m\u001b[0m \u001b[1m63s\u001b[0m 4ms/step - loss: 0.0671 - root_mean_squared_error: 0.2568 - val_loss: 0.0808 - val_root_mean_squared_error: 0.2821\n",
      "Epoch 8/20\n",
      "\u001b[1m14155/14155\u001b[0m \u001b[32m━━━━━━━━━━━━━━━━━━━━\u001b[0m\u001b[37m\u001b[0m \u001b[1m64s\u001b[0m 4ms/step - loss: 0.0655 - root_mean_squared_error: 0.2534 - val_loss: 0.0823 - val_root_mean_squared_error: 0.2847\n",
      "Epoch 9/20\n",
      "\u001b[1m14155/14155\u001b[0m \u001b[32m━━━━━━━━━━━━━━━━━━━━\u001b[0m\u001b[37m\u001b[0m \u001b[1m64s\u001b[0m 4ms/step - loss: 0.0639 - root_mean_squared_error: 0.2502 - val_loss: 0.0810 - val_root_mean_squared_error: 0.2824\n",
      "Epoch 10/20\n",
      "\u001b[1m14155/14155\u001b[0m \u001b[32m━━━━━━━━━━━━━━━━━━━━\u001b[0m\u001b[37m\u001b[0m \u001b[1m64s\u001b[0m 4ms/step - loss: 0.0630 - root_mean_squared_error: 0.2485 - val_loss: 0.0798 - val_root_mean_squared_error: 0.2802\n",
      "Epoch 11/20\n",
      "\u001b[1m14155/14155\u001b[0m \u001b[32m━━━━━━━━━━━━━━━━━━━━\u001b[0m\u001b[37m\u001b[0m \u001b[1m64s\u001b[0m 4ms/step - loss: 0.0622 - root_mean_squared_error: 0.2468 - val_loss: 0.0814 - val_root_mean_squared_error: 0.2831\n",
      "Epoch 12/20\n",
      "\u001b[1m14155/14155\u001b[0m \u001b[32m━━━━━━━━━━━━━━━━━━━━\u001b[0m\u001b[37m\u001b[0m \u001b[1m63s\u001b[0m 4ms/step - loss: 0.0607 - root_mean_squared_error: 0.2438 - val_loss: 0.0809 - val_root_mean_squared_error: 0.2821\n",
      "Epoch 13/20\n",
      "\u001b[1m14155/14155\u001b[0m \u001b[32m━━━━━━━━━━━━━━━━━━━━\u001b[0m\u001b[37m\u001b[0m \u001b[1m63s\u001b[0m 4ms/step - loss: 0.0600 - root_mean_squared_error: 0.2422 - val_loss: 0.0809 - val_root_mean_squared_error: 0.2821\n"
     ]
    }
   ],
   "source": [
    "num_users = len(user_encoder.classes_)\n",
    "num_items = len(item_encoder.classes_)\n",
    "\n",
    "model = RecommenderNet(num_users, num_items, embedding_size=50)\n",
    "model.compile(\n",
    "    loss='mse',\n",
    "    optimizer=Adam(learning_rate=0.0001),\n",
    "    metrics=[RootMeanSquaredError()]\n",
    ")\n",
    "early_stop = EarlyStopping(monitor='val_loss', patience=3, restore_best_weights=True)\n",
    "\n",
    "history = model.fit(\n",
    "    x_train, y_train,\n",
    "    batch_size=64,\n",
    "    epochs=20,\n",
    "    validation_data=(x_val, y_val),\n",
    "    callbacks=[early_stop]\n",
    ")"
   ]
  },
  {
   "cell_type": "markdown",
   "metadata": {},
   "source": [
    "1. **Jumlah Pengguna dan Item**\n",
    "   - `num_users` dan `num_items` diperoleh dari hasil encoding.\n",
    "   - Digunakan sebagai ukuran input untuk layer embedding.\n",
    "\n",
    "2. **Kompilasi Model**\n",
    "   - **Loss Function**: `mean squared error (MSE)` digunakan karena target berupa rating numerik kontinu.\n",
    "   - **Optimizer**: `Adam` dengan `learning_rate=0.0001`, cocok untuk training model embedding.\n",
    "   - **Metric**: `RootMeanSquaredError (RMSE)` dipilih karena lebih intuitif untuk evaluasi skala rating.\n",
    "\n",
    "3. **Early Stopping**\n",
    "   - Menggunakan `EarlyStopping` untuk menghentikan pelatihan saat model tidak mengalami perbaikan pada `val_loss` selama 3 epoch berturut-turut.\n",
    "   - `restore_best_weights=True` memastikan model terbaik disimpan berdasarkan evaluasi validasi.\n",
    "\n",
    "4. **Training**\n",
    "   - Model dilatih selama maksimum 20 epoch dengan `batch_size=64`.\n",
    "   - Validasi dilakukan menggunakan `x_val` dan `y_val` untuk memantau overfitting."
   ]
  },
  {
   "cell_type": "markdown",
   "metadata": {},
   "source": [
    "# Evaluasi Model"
   ]
  },
  {
   "cell_type": "code",
   "execution_count": 65,
   "metadata": {
    "_cell_guid": "082b47a6-77ba-4973-a5fa-8214c10c01d9",
    "_uuid": "fdc2fdd5-5d3e-4cda-842a-4e8518d7446a",
    "collapsed": false,
    "execution": {
     "iopub.execute_input": "2025-05-23T05:51:36.703431Z",
     "iopub.status.busy": "2025-05-23T05:51:36.703212Z",
     "iopub.status.idle": "2025-05-23T05:51:47.514110Z",
     "shell.execute_reply": "2025-05-23T05:51:47.513276Z",
     "shell.execute_reply.started": "2025-05-23T05:51:36.703414Z"
    },
    "jupyter": {
     "outputs_hidden": false
    },
    "trusted": true
   },
   "outputs": [
    {
     "name": "stdout",
     "output_type": "stream",
     "text": [
      "\u001b[1m7078/7078\u001b[0m \u001b[32m━━━━━━━━━━━━━━━━━━━━\u001b[0m\u001b[37m\u001b[0m \u001b[1m8s\u001b[0m 1ms/step\n",
      "MSE: 0.2130\n",
      "RMSE: 0.4615\n"
     ]
    }
   ],
   "source": [
    "y_pred = model.predict(x_val)\n",
    "mse = mean_squared_error(y_val, y_pred)\n",
    "rmse = np.sqrt(mse)\n",
    "\n",
    "print(f\"MSE: {mse:.4f}\")\n",
    "print(f\"RMSE: {rmse:.4f}\")"
   ]
  },
  {
   "cell_type": "markdown",
   "metadata": {},
   "source": [
    "**Metrik Evaluasi:**\n",
    "\n",
    "1. **Mean Squared Error (MSE)**  \n",
    "   MSE menghitung rata-rata dari kuadrat selisih antara nilai prediksi dan nilai aktual. Semakin kecil nilai MSE, semakin baik prediksi model.\n",
    "\n",
    "2. **Root Mean Squared Error (RMSE)**  \n",
    "   RMSE adalah akar dari MSE dan mengembalikan hasil dalam satuan yang sama dengan target (dalam hal ini: skor rating). RMSE lebih interpretatif dalam konteks kesalahan karena menunjukkan rata-rata jarak prediksi dari nilai sebenarnya.\n",
    "\n",
    "**Hasil Evaluasi:**\n",
    "\n",
    "- **MSE:** 0.2130  \n",
    "- **RMSE:** 0.4615  \n"
   ]
  },
  {
   "cell_type": "code",
   "execution_count": 66,
   "metadata": {
    "_cell_guid": "5cebbb9b-00c5-45cd-b0a2-f5927e25102e",
    "_uuid": "fdfd48cf-efba-4ca0-8759-dc457a2f7655",
    "collapsed": false,
    "execution": {
     "iopub.execute_input": "2025-05-23T05:51:47.515199Z",
     "iopub.status.busy": "2025-05-23T05:51:47.514964Z",
     "iopub.status.idle": "2025-05-23T05:51:47.888921Z",
     "shell.execute_reply": "2025-05-23T05:51:47.888123Z",
     "shell.execute_reply.started": "2025-05-23T05:51:47.515183Z"
    },
    "jupyter": {
     "outputs_hidden": false
    },
    "trusted": true
   },
   "outputs": [
    {
     "data": {
      "image/png": "[encoded data removed]",
      "text/plain": [
       "<Figure size 1200x500 with 2 Axes>"
      ]
     },
     "metadata": {},
     "output_type": "display_data"
    }
   ],
   "source": [
    "plt.figure(figsize=(12, 5))\n",
    "\n",
    "# Loss Plot\n",
    "plt.subplot(1, 2, 1)\n",
    "plt.plot(history.history['loss'], label='Train Loss')\n",
    "plt.plot(history.history['val_loss'], label='Validation Loss')\n",
    "plt.title('Training & Validation Loss')\n",
    "plt.xlabel('Epoch')\n",
    "plt.ylabel('MSE')\n",
    "plt.legend()\n",
    "\n",
    "# RMSE Plot\n",
    "plt.subplot(1, 2, 2)\n",
    "plt.plot(history.history['root_mean_squared_error'], label='Train RMSE')\n",
    "plt.plot(history.history['val_root_mean_squared_error'], label='Validation RMSE')\n",
    "plt.title('Training & Validation RMSE')\n",
    "plt.xlabel('Epoch')\n",
    "plt.ylabel('RMSE')\n",
    "plt.legend()\n",
    "\n",
    "plt.tight_layout()\n",
    "plt.show()"
   ]
  },
  {
   "cell_type": "markdown",
   "metadata": {},
   "source": [
    "**Insight dari Grafik:**\n",
    "\n",
    "- **Grafik Kiri (Training & Validation Loss):**\n",
    "  - MSE pada data training terus menurun seiring bertambahnya epoch, menunjukkan model berhasil belajar dari data pelatihan.\n",
    "  - MSE pada data validasi relatif stabil setelah epoch ke-2, yang mengindikasikan tidak terjadi overfitting selama proses pelatihan.\n",
    "\n",
    "- **Grafik Kanan (Training & Validation RMSE):**\n",
    "  - RMSE pada training menurun secara konsisten, memperlihatkan peningkatan akurasi model dalam memprediksi rating pengguna.\n",
    "  - RMSE validasi juga menunjukkan tren penurunan, walau sedikit stagnan di beberapa epoch terakhir. Hal ini menandakan bahwa model cukup generalizable dan tidak hanya menghafal data training.\n",
    "\n",
    "**Kesimpulan:**\n",
    "\n",
    "Visualisasi ini menunjukkan bahwa model telah dilatih secara efektif tanpa overfitting yang signifikan. Selisih antara RMSE training dan validasi tidak terlalu besar, yang menandakan model memiliki performa yang stabil dan mampu melakukan generalisasi dengan baik terhadap data baru.\n"
   ]
  },
  {
   "cell_type": "markdown",
   "metadata": {},
   "source": [
    "# Inference "
   ]
  },
  {
   "cell_type": "code",
   "execution_count": 67,
   "metadata": {
    "_cell_guid": "566a3cc8-aa7a-45bf-84aa-eb2700eb59db",
    "_uuid": "dc1718d2-ca2d-4929-a712-f24c89ef8b92",
    "collapsed": false,
    "execution": {
     "iopub.execute_input": "2025-05-23T05:51:47.890094Z",
     "iopub.status.busy": "2025-05-23T05:51:47.889820Z",
     "iopub.status.idle": "2025-05-23T05:51:47.895119Z",
     "shell.execute_reply": "2025-05-23T05:51:47.894409Z",
     "shell.execute_reply.started": "2025-05-23T05:51:47.890077Z"
    },
    "jupyter": {
     "outputs_hidden": false
    },
    "trusted": true
   },
   "outputs": [],
   "source": [
    "def recommend_for_user(user_id_raw, top_n=5):\n",
    "    try:\n",
    "        user_idx = user_encoder.transform([user_id_raw])[0]\n",
    "    except ValueError:\n",
    "        print(f\"User ID {user_id_raw} tidak ditemukan dalam data training.\")\n",
    "        return pd.DataFrame()\n",
    "        \n",
    "    item_indices = np.arange(num_items)\n",
    "    user_input = np.full_like(item_indices, user_idx)\n",
    "\n",
    "    predictions = model.predict(np.stack([user_input, item_indices], axis=1), verbose=0)\n",
    "\n",
    "    top_indices = predictions.flatten().argsort()[::-1][:top_n]\n",
    "    recommended_item_ids = item_encoder.inverse_transform(top_indices)\n",
    "\n",
    "    return recipes[recipes['id'].isin(recommended_item_ids)][['id', 'name', 'description']].reset_index(drop=True)"
   ]
  },
  {
   "cell_type": "markdown",
   "metadata": {},
   "source": [
    "1. **Transformasi ID Pengguna:**\n",
    "\n",
    "   * `user_id_raw` diubah menjadi bentuk numerik menggunakan `LabelEncoder` agar bisa dikenali oleh model.\n",
    "   * Jika `user_id_raw` tidak tersedia dalam data pelatihan, fungsi mengembalikan DataFrame kosong.\n",
    "\n",
    "2. **Pembuatan Input Prediksi:**\n",
    "\n",
    "   * Dibuat pasangan kombinasi user-item dengan semua item yang tersedia untuk memprediksi ratingnya sekaligus.\n",
    "\n",
    "3. **Prediksi Rating oleh Model:**\n",
    "\n",
    "   * Model melakukan prediksi terhadap seluruh kombinasi item-user dalam bentuk skor prediksi (rating terstandardisasi).\n",
    "\n",
    "4. **Seleksi Top-N Item:**\n",
    "\n",
    "   * Mengurutkan hasil prediksi dan memilih `top_n` makanan dengan skor tertinggi.\n",
    "\n",
    "5. **Keluaran Rekomendasi:**\n",
    "\n",
    "   * Mengembalikan daftar makanan dengan `id`, `name`, dan `description` berdasarkan ID item yang telah dipetakan kembali ke aslinya."
   ]
  },
  {
   "cell_type": "code",
   "execution_count": 79,
   "metadata": {
    "execution": {
     "iopub.execute_input": "2025-05-23T07:11:53.607567Z",
     "iopub.status.busy": "2025-05-23T07:11:53.606905Z",
     "iopub.status.idle": "2025-05-23T07:12:03.675902Z",
     "shell.execute_reply": "2025-05-23T07:12:03.675223Z",
     "shell.execute_reply.started": "2025-05-23T07:11:53.607534Z"
    },
    "trusted": true
   },
   "outputs": [
    {
     "name": "stdout",
     "output_type": "stream",
     "text": [
      "Rekomendasi untuk User ID 8937 berdasarkan Collaborative Filtering:\n",
      "Pesanan Rekomendasi:\n",
      "                                             name  \\\n",
      "0               bacon lattice tomato muffins  rsc   \n",
      "1                        breakfast shepherd s pie   \n",
      "2                           mexican stack up  rsc   \n",
      "3                                ragu shuka  ragu   \n",
      "4  simply irresistible tropical potato salad  sp5   \n",
      "\n",
      "                                         description  \n",
      "0  \"ready, set, cook! contest entry.\" bacon latti...  \n",
      "1  ready, set, cook! special edition contest entr...  \n",
      "2  ready, set, cook! reynolds wrap contest entry....  \n",
      "3  ragú® recipe contest entry. ragu-shuka is a he...  \n",
      "4  official contest entry: simply potatoes 5fix. ...  \n"
     ]
    }
   ],
   "source": [
    "user_id_input = 8937\n",
    "print(f\"Rekomendasi untuk User ID {user_id_input} berdasarkan Collaborative Filtering:\")\n",
    "hasil = recommend_for_user(user_id_input, top_n=5)\n",
    "print(\"Pesanan Rekomendasi:\")\n",
    "print(hasil[['name', 'description']])"
   ]
  },
  {
   "cell_type": "markdown",
   "metadata": {},
   "source": [
    "**Interpretasi dan Insight:**\n",
    "\n",
    "* Rekomendasi ini didasarkan pada pola rating historis pengguna terhadap makanan serupa.\n",
    "* Beberapa makanan adalah **kontes entry**, menunjukkan kemungkinan bahwa user menyukai eksperimen rasa baru dan konten kompetitif.\n",
    "* Ciri umum lainnya adalah kombinasi **makanan gurih dan inovatif** – muffin asin, salad tropis, dan makanan Meksiko berlapis.\n"
   ]
  },
  {
   "cell_type": "code",
   "execution_count": 70,
   "metadata": {
    "_cell_guid": "88fcf396-e2d7-4149-b3fc-ebebc20d6be5",
    "_uuid": "fecc7d21-6ed3-4f69-a7fe-79b9ae4f63f1",
    "collapsed": false,
    "execution": {
     "iopub.execute_input": "2025-05-23T05:54:15.040778Z",
     "iopub.status.busy": "2025-05-23T05:54:15.040468Z",
     "iopub.status.idle": "2025-05-23T05:54:16.144568Z",
     "shell.execute_reply": "2025-05-23T05:54:16.143991Z",
     "shell.execute_reply.started": "2025-05-23T05:54:15.040757Z"
    },
    "jupyter": {
     "outputs_hidden": false
    },
    "trusted": true
   },
   "outputs": [],
   "source": [
    "model.save(\"recommendasi_model.keras\")"
   ]
  },
  {
   "cell_type": "markdown",
   "metadata": {},
   "source": [
    "Model disimpan dalam format .keras"
   ]
  }
 ],
 "metadata": {
  "kaggle": {
   "accelerator": "gpu",
   "dataSources": [
    {
     "datasetId": 311962,
     "sourceId": 783630,
     "sourceType": "datasetVersion"
    }
   ],
   "dockerImageVersionId": 31041,
   "isGpuEnabled": true,
   "isInternetEnabled": true,
   "language": "python",
   "sourceType": "notebook"
  },
  "kernelspec": {
   "display_name": "Python 3",
   "language": "python",
   "name": "python3"
  },
  "language_info": {
   "codemirror_mode": {
    "name": "ipython",
    "version": 3
   },
   "file_extension": ".py",
   "mimetype": "text/x-python",
   "name": "python",
   "nbconvert_exporter": "python",
   "pygments_lexer": "ipython3",
   "version": "3.11.11"
  }
 },
 "nbformat": 4,
 "nbformat_minor": 4
}
